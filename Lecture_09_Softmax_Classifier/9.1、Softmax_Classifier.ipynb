{
 "cells": [
  {
   "cell_type": "code",
   "execution_count": 11,
   "metadata": {},
   "outputs": [],
   "source": [
    "import torch\n",
    "from torchvision import datasets, transforms\n",
    "from torch.utils.data import Dataset, DataLoader\n",
    "import torch.nn.functional as F\n",
    "import torch.optim as optim"
   ]
  },
  {
   "cell_type": "code",
   "execution_count": 12,
   "metadata": {
    "pycharm": {
     "name": "#%%\n"
    }
   },
   "outputs": [],
   "source": [
    "transform = transforms.Compose([transforms.ToTensor(), transforms.Normalize((0.1307, ), (0.3081, ))])\n",
    "\n",
    "train_data = datasets.MNIST(root=\"./dataset\", train=True, download=True, transform=transform)\n",
    "test_data = datasets.MNIST(root=\"./dataset\", train=False, download=True, transform=transform)\n",
    "\n",
    "train_loader = DataLoader(train_data, batch_size=64, shuffle=True)\n",
    "test_loader = DataLoader(test_data, batch_size=64, shuffle=False)"
   ]
  },
  {
   "cell_type": "code",
   "execution_count": 13,
   "metadata": {
    "pycharm": {
     "name": "#%%\n"
    }
   },
   "outputs": [],
   "source": [
    "class Net(torch.nn.Module):\n",
    "    def __init__(self):\n",
    "        super(Net, self).__init__()\n",
    "        self.l1 = torch.nn.Linear(784, 512)\n",
    "        self.l2 = torch.nn.Linear(512, 256)\n",
    "        self.l3 = torch.nn.Linear(256, 128)\n",
    "        self.l4 = torch.nn.Linear(128, 64)\n",
    "        self.l5 = torch.nn.Linear(64, 10)\n",
    "\n",
    "    def forward(self, x):\n",
    "        x = x.view(-1, 784)\n",
    "        x = F.relu(self.l1(x))\n",
    "        x = F.relu(self.l2(x))\n",
    "        x = F.relu(self.l3(x))\n",
    "        x = F.relu(self.l4(x))\n",
    "        return self.l5(x)\n",
    "\n",
    "model = Net()\n",
    "\n",
    "criterion = torch.nn.CrossEntropyLoss()\n",
    "optim = optim.SGD(model.parameters(), lr=0.01, momentum=0.5)"
   ]
  },
  {
   "cell_type": "code",
   "execution_count": 14,
   "metadata": {
    "pycharm": {
     "name": "#%%\n"
    }
   },
   "outputs": [],
   "source": [
    "def train(epoch):\n",
    "    running_loss = 0.0\n",
    "    for batch_inx, data in enumerate(train_loader, 0):\n",
    "        input, target = data\n",
    "        optim.zero_grad()\n",
    "\n",
    "        outputs = model(input)\n",
    "        loss = criterion(outputs, target)\n",
    "        loss.backward()\n",
    "        optim.step()\n",
    "\n",
    "        running_loss += loss.item()\n",
    "        if batch_inx % 300 == 299:\n",
    "            print(\"[%d, %5d] loss: %.3f\" %(epoch + 1, batch_inx + 1, running_loss / 300))\n",
    "            running_loss = 0\n",
    "\n",
    "def test():\n",
    "    correct = 0\n",
    "    total = 0\n",
    "\n",
    "    # python中with语句的介绍 https://blog.csdn.net/ego_bai/article/details/80873242\n",
    "    with torch.no_grad():  # 关于torch.no_grad()的介绍 https://blog.csdn.net/Answer3664/article/details/99460175\n",
    "        for data in test_loader:\n",
    "            images, label = data\n",
    "            outputs = model(images)\n",
    "            _, predict = torch.max(outputs.data, dim=1)  # torch.max的返回值有两个，第一个是每一行的最大值是多少，第二个是每一行最大值的下标(索引)是多少。\n",
    "            total += label.size(0)\n",
    "            correct += (predict == label).sum().item()\n",
    "    print(\"Accuracy on test set: %d %%\" %(100 * correct / total))"
   ]
  },
  {
   "cell_type": "code",
   "execution_count": 15,
   "metadata": {
    "pycharm": {
     "name": "#%%\n"
    }
   },
   "outputs": [
    {
     "output_type": "stream",
     "name": "stdout",
     "text": [
      "[1,   300] loss: 2.233\n",
      "[1,   600] loss: 1.015\n",
      "[1,   900] loss: 0.427\n",
      "Accuracy on test set: 90 %\n",
      "[2,   300] loss: 0.320\n",
      "[2,   600] loss: 0.270\n",
      "[2,   900] loss: 0.225\n",
      "Accuracy on test set: 93 %\n",
      "[3,   300] loss: 0.192\n",
      "[3,   600] loss: 0.171\n",
      "[3,   900] loss: 0.149\n",
      "Accuracy on test set: 95 %\n",
      "[4,   300] loss: 0.133\n",
      "[4,   600] loss: 0.124\n",
      "[4,   900] loss: 0.115\n",
      "Accuracy on test set: 95 %\n",
      "[5,   300] loss: 0.099\n",
      "[5,   600] loss: 0.094\n",
      "[5,   900] loss: 0.097\n",
      "Accuracy on test set: 96 %\n",
      "[6,   300] loss: 0.080\n",
      "[6,   600] loss: 0.078\n",
      "[6,   900] loss: 0.074\n",
      "Accuracy on test set: 97 %\n",
      "[7,   300] loss: 0.062\n",
      "[7,   600] loss: 0.065\n",
      "[7,   900] loss: 0.066\n",
      "Accuracy on test set: 97 %\n",
      "[8,   300] loss: 0.052\n",
      "[8,   600] loss: 0.055\n",
      "[8,   900] loss: 0.050\n",
      "Accuracy on test set: 97 %\n",
      "[9,   300] loss: 0.039\n",
      "[9,   600] loss: 0.046\n",
      "[9,   900] loss: 0.046\n",
      "Accuracy on test set: 97 %\n",
      "[10,   300] loss: 0.033\n",
      "[10,   600] loss: 0.035\n",
      "[10,   900] loss: 0.038\n",
      "Accuracy on test set: 97 %\n"
     ]
    }
   ],
   "source": [
    "if __name__ == '__main__':\n",
    "    for epoch in range(10):\n",
    "        train(epoch)\n",
    "        test()"
   ]
  }
 ],
 "metadata": {
  "kernelspec": {
   "display_name": "Python 3",
   "language": "python",
   "name": "python3"
  },
  "language_info": {
   "codemirror_mode": {
    "name": "ipython",
    "version": 3
   },
   "file_extension": ".py",
   "mimetype": "text/x-python",
   "name": "python",
   "nbconvert_exporter": "python",
   "pygments_lexer": "ipython3",
   "version": "3.8.6-final"
  }
 },
 "nbformat": 4,
 "nbformat_minor": 1
}